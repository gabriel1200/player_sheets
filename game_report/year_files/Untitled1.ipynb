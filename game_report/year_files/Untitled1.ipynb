{
 "cells": [
  {
   "cell_type": "code",
   "execution_count": 2,
   "id": "8e7d9935-d7f1-49fb-9ae4-be301c78da28",
   "metadata": {},
   "outputs": [
    {
     "name": "stdout",
     "output_type": "stream",
     "text": [
      "Directory ../2014 does not exist. Skipping.\n",
      "Directory ../2015 does not exist. Skipping.\n",
      "Directory ../2016 does not exist. Skipping.\n",
      "Directory ../2017 does not exist. Skipping.\n",
      "Directory ../2018 does not exist. Skipping.\n",
      "Directory ../2019 does not exist. Skipping.\n",
      "Directory ../2020 does not exist. Skipping.\n",
      "Directory ../2021 does not exist. Skipping.\n",
      "Directory ../2022 does not exist. Skipping.\n",
      "Directory ../2023 does not exist. Skipping.\n",
      "Directory ../2024 does not exist. Skipping.\n"
     ]
    }
   ],
   "source": [
    "import pandas as pd\n",
    "from pathlib import Path\n",
    "\n",
    "for year in range(2014, 2025):\n",
    "    input_path = Path(f\"{year}/\")\n",
    "    output_file = Path(f\"{year}/{year}ps_games.csv\")\n",
    "\n",
    "    if not input_path.exists():\n",
    "        print(f\"Directory {input_path} does not exist. Skipping.\")\n",
    "        continue\n",
    "\n",
    "    year_data = []\n",
    "\n",
    "    for file in input_path.glob(\"4*.csv\"):\n",
    "        try:\n",
    "            df = pd.read_csv(file)\n",
    "            year_data.append(df)\n",
    "        except Exception as e:\n",
    "            print(f\"Error reading {file}: {e}\")\n",
    "\n",
    "    if year_data:\n",
    "        combined_df = pd.concat(year_data, ignore_index=True)\n",
    "        combined_df.to_csv(output_file, index=False)\n",
    "        print(f\"Saved {len(combined_df)} rows to {output_file}\")\n",
    "    else:\n",
    "        print(f\"No matching files found for {year}.\")\n",
    "\n"
   ]
  },
  {
   "cell_type": "code",
   "execution_count": null,
   "id": "6ab4b28c-d009-4398-8596-9befcd0cb2bc",
   "metadata": {},
   "outputs": [],
   "source": []
  }
 ],
 "metadata": {
  "kernelspec": {
   "display_name": "Python 3 (ipykernel)",
   "language": "python",
   "name": "python3"
  },
  "language_info": {
   "codemirror_mode": {
    "name": "ipython",
    "version": 3
   },
   "file_extension": ".py",
   "mimetype": "text/x-python",
   "name": "python",
   "nbconvert_exporter": "python",
   "pygments_lexer": "ipython3",
   "version": "3.12.3"
  }
 },
 "nbformat": 4,
 "nbformat_minor": 5
}
