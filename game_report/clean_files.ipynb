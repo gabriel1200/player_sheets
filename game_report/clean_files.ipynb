{
 "cells": [
  {
   "cell_type": "code",
   "execution_count": 9,
   "metadata": {},
   "outputs": [
    {
     "name": "stdout",
     "output_type": "stream",
     "text": [
      "2014\n",
      "2015\n",
      "2016\n",
      "2017\n",
      "2018\n",
      "2019\n",
      "2020\n",
      "2021\n",
      "2022\n",
      "2023\n",
      "2024\n",
      "2025\n"
     ]
    }
   ],
   "source": [
    "import pandas as pd\n",
    "import glob\n",
    "import sys\n",
    "# Replace 'year' with the actual directory path or variable\n",
    "for year in range(2014,2026):\n",
    "\n",
    "\n",
    "# Replace 'year' with the actual directory path or variable\n",
    "    updated_game_files = glob.glob(f'{year}/*.csv')\n",
    "\n",
    "    # Strings to search for in column names\n",
    "    extra_columns = [\n",
    "    '_PLAYER_NAME', \n",
    "    '_PLAYER_LAST_TEAM_ID', \n",
    "    '_GP', \n",
    "    '_PLAYER_POSITION', \n",
    "    '_PLAYER_LAST_TEAM_ABBREVIATION', \n",
    "    '_PLAYER_ID',\n",
    "    '_MIN',\n",
    "    '_TEAM_ABBREVIAITON',\n",
    "    '_G',\n",
    "    '_W',\n",
    "    '_L',\n",
    "    '_MIN',\n",
    "    '_AGE'\n",
    "]\n",
    "\n",
    "    for file in updated_game_files:\n",
    "        df = pd.read_csv(file)\n",
    "        df['PLAYER_POSITION']\n",
    "        \n",
    "        # Filter out columns containing any of the extra strings\n",
    "        cols_to_drop = [col for col in df.columns if any(col.endswith(ex_col) for ex_col in extra_columns)]\n",
    "\n",
    "        \n",
    "        # Drop the matched columns\n",
    "        df = df.drop(columns=cols_to_drop)\n",
    "\n",
    "        # Save the cleaned dataframe back to the same file\n",
    "        df.to_csv(file, index=False)\n",
    "        #print(len(cols_to_drop))\n",
    "        #print(f\"Cleaned: {file} - Removed columns: {cols_to_drop}\")\n",
    "        #sys.exit()\n",
    "    print(year)\n"
   ]
  },
  {
   "cell_type": "code",
   "execution_count": null,
   "metadata": {},
   "outputs": [
    {
     "name": "stdout",
     "output_type": "stream",
     "text": [
      "Cleaned: 2025/22400350.csv - Removed columns: ['overall_def_PLAYER_NAME', 'overall_def_PLAYER_LAST_TEAM_ID', 'overall_def_PLAYER_LAST_TEAM_ABBREVIATION', 'overall_def_PLAYER_POSITION', 'overall_def_AGE', 'overall_def_GP', 'overall_def_G', 'three_pt_def_PLAYER_NAME', 'three_pt_def_PLAYER_LAST_TEAM_ID', 'three_pt_def_PLAYER_LAST_TEAM_ABBREVIATION', 'three_pt_def_PLAYER_POSITION', 'three_pt_def_AGE', 'three_pt_def_GP', 'three_pt_def_G', 'two_pt_def_PLAYER_NAME', 'two_pt_def_PLAYER_LAST_TEAM_ID', 'two_pt_def_PLAYER_LAST_TEAM_ABBREVIATION', 'two_pt_def_PLAYER_POSITION', 'two_pt_def_AGE', 'two_pt_def_GP', 'two_pt_def_G', 'less_6ft_def_PLAYER_NAME', 'less_6ft_def_PLAYER_LAST_TEAM_ID', 'less_6ft_def_PLAYER_LAST_TEAM_ABBREVIATION', 'less_6ft_def_PLAYER_POSITION', 'less_6ft_def_AGE', 'less_6ft_def_GP', 'less_6ft_def_G', 'less_10ft_def_PLAYER_NAME', 'less_10ft_def_PLAYER_LAST_TEAM_ID', 'less_10ft_def_PLAYER_LAST_TEAM_ABBREVIATION', 'less_10ft_def_PLAYER_POSITION', 'less_10ft_def_AGE', 'less_10ft_def_GP', 'less_10ft_def_G', 'more_15ft_def_PLAYER_NAME', 'more_15ft_def_PLAYER_LAST_TEAM_ID', 'more_15ft_def_PLAYER_LAST_TEAM_ABBREVIATION', 'more_15ft_def_PLAYER_POSITION', 'more_15ft_def_AGE', 'more_15ft_def_GP', 'more_15ft_def_G', 'post_touch_PLAYER_NAME', 'post_touch_GP', 'post_touch_W', 'post_touch_L', 'post_touch_MIN', 'speed_distance_PLAYER_NAME', 'speed_distance_GP', 'speed_distance_W', 'speed_distance_L', 'speed_distance_MIN']\n",
      "52\n"
     ]
    },
    {
     "ename": "SystemExit",
     "evalue": "",
     "output_type": "error",
     "traceback": [
      "An exception has occurred, use %tb to see the full traceback.\n",
      "\u001b[0;31mSystemExit\u001b[0m\n"
     ]
    },
    {
     "name": "stderr",
     "output_type": "stream",
     "text": [
      "/home/gabriel1200/.local/lib/python3.10/site-packages/IPython/core/interactiveshell.py:3558: UserWarning: To exit: use 'exit', 'quit', or Ctrl-D.\n",
      "  warn(\"To exit: use 'exit', 'quit', or Ctrl-D.\", stacklevel=1)\n"
     ]
    }
   ],
   "source": [
    "# Replace 'year' with the actual directory path or variable\n",
    "for year in range(2014,2026):\n",
    "\n",
    "\n",
    "# Replace 'year' with the actual directory path or variable\n",
    "    csv_file =f\"all_games/all_{year}.csv\"\n",
    "    parquet_file=  f\"all_games/all_{year}.parquet\"\n",
    "    df=pd.read_csv( csv_file)\n",
    "    df2 = pd.read_parquet(parquet_file)\n",
    "\n",
    "    # Strings to search for in column names\n",
    "    extra_columns = [\n",
    "    '_PLAYER_NAME', \n",
    "    '_PLAYER_LAST_TEAM_ID', \n",
    "    '_GP', \n",
    "    '_PLAYER_POSITION', \n",
    "    '_PLAYER_LAST_TEAM_ABBREVIATION', \n",
    "    '_PLAYER_ID',\n",
    "    '_MIN',\n",
    "    '_TEAM_ABBREVIAITON',\n",
    "    '_G',\n",
    "    '_W',\n",
    "    '_L',\n",
    "    '_MIN',\n",
    "    '_AGE'\n",
    "]\n",
    "\n",
    "    \n",
    "    # Filter out columns containing any of the extra strings\n",
    "    cols_to_drop = [col for col in df.columns if any(col.endswith(ex_col) for ex_col in extra_columns)]\n",
    "\n",
    "    \n",
    "    # Drop the matched columns\n",
    "    df = df.drop(columns=cols_to_drop)\n",
    "    df2 = df2.drop(columns=cols_to_drop)\n",
    "\n",
    "    # Save the cleaned dataframe back to the same file\n",
    "    df.to_csv(csv_file, index=False)\n",
    "    df2.to_csv(parquet_file,index=False)\n",
    "    #print(len(cols_to_drop))\n",
    "    #print(f\"Cleaned: {file} - Removed columns: {cols_to_drop}\")\n",
    "    print(len(cols_to_drop))\n",
    "    print(year)\n",
    "    #sys.exit()\n",
    "\n"
   ]
  }
 ],
 "metadata": {
  "kernelspec": {
   "display_name": "Python 3",
   "language": "python",
   "name": "python3"
  },
  "language_info": {
   "codemirror_mode": {
    "name": "ipython",
    "version": 3
   },
   "file_extension": ".py",
   "mimetype": "text/x-python",
   "name": "python",
   "nbconvert_exporter": "python",
   "pygments_lexer": "ipython3",
   "version": "3.10.12"
  }
 },
 "nbformat": 4,
 "nbformat_minor": 2
}
