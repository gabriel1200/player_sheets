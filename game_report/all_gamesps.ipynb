{
 "cells": [
  {
   "cell_type": "code",
   "execution_count": 3,
   "id": "8a7d17d2-738b-4953-a3b4-9c465aee502c",
   "metadata": {},
   "outputs": [
    {
     "name": "stdout",
     "output_type": "stream",
     "text": [
      "Saved 1906 rows to all_games/all_2014ps.csv\n",
      "Saved 1653 rows to all_games/all_2015ps.csv\n",
      "Saved 1899 rows to all_games/all_2016ps.csv\n",
      "Saved 1737 rows to all_games/all_2017ps.csv\n",
      "Saved 1729 rows to all_games/all_2018ps.csv\n",
      "Saved 1761 rows to all_games/all_2019ps.csv\n",
      "Saved 1694 rows to all_games/all_2020ps.csv\n",
      "Saved 1861 rows to all_games/all_2021ps.csv\n",
      "Saved 1891 rows to all_games/all_2022ps.csv\n",
      "Saved 1728 rows to all_games/all_2023ps.csv\n",
      "Saved 1685 rows to all_games/all_2024ps.csv\n"
     ]
    }
   ],
   "source": [
    "import pandas as pd\n",
    "from pathlib import Path\n",
    "\n",
    "for year in range(2014, 2025):\n",
    "    input_path = Path(f\"{year}/\")\n",
    "    output_file = Path(f\"all_games/all_{year}ps.csv\")\n",
    "\n",
    "    if not input_path.exists():\n",
    "        print(f\"Directory {input_path} does not exist. Skipping.\")\n",
    "        continue\n",
    "\n",
    "    year_data = []\n",
    "\n",
    "    for file in input_path.glob(\"4*.csv\"):\n",
    "        try:\n",
    "            df = pd.read_csv(file)\n",
    "            year_data.append(df)\n",
    "        except Exception as e:\n",
    "            print(f\"Error reading {file}: {e}\")\n",
    "\n",
    "    if year_data:\n",
    "        combined_df = pd.concat(year_data, ignore_index=True)\n",
    "        combined_df.to_csv(output_file, index=False)\n",
    "        print(f\"Saved {len(combined_df)} rows to {output_file}\")\n",
    "    else:\n",
    "        print(f\"No matching files found for {year}.\")\n"
   ]
  },
  {
   "cell_type": "code",
   "execution_count": null,
   "id": "ebf141e9-33da-4e8c-bf75-43eb55c5a529",
   "metadata": {},
   "outputs": [],
   "source": []
  }
 ],
 "metadata": {
  "kernelspec": {
   "display_name": "Python 3 (ipykernel)",
   "language": "python",
   "name": "python3"
  },
  "language_info": {
   "codemirror_mode": {
    "name": "ipython",
    "version": 3
   },
   "file_extension": ".py",
   "mimetype": "text/x-python",
   "name": "python",
   "nbconvert_exporter": "python",
   "pygments_lexer": "ipython3",
   "version": "3.12.3"
  }
 },
 "nbformat": 4,
 "nbformat_minor": 5
}
