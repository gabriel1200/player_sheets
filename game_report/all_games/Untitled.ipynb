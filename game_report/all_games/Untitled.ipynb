{
 "cells": [
  {
   "cell_type": "code",
   "execution_count": 1,
   "id": "f824438e-bfad-49df-b798-04d000867f7d",
   "metadata": {},
   "outputs": [
    {
     "name": "stderr",
     "output_type": "stream",
     "text": [
      "/tmp/ipykernel_187694/770728148.py:17: DtypeWarning: Columns (381,395,414) have mixed types. Specify dtype option on import or set low_memory=False.\n",
      "  df = pd.read_csv(file_path)\n"
     ]
    },
    {
     "name": "stdout",
     "output_type": "stream",
     "text": [
      "        PLAYER_ID        PLAYER_NAME   NICKNAME       TEAM_ID  \\\n",
      "0          201143         Al Horford         Al  1.610613e+09   \n",
      "1          101161       Amir Johnson       Amir  1.610613e+09   \n",
      "2         1626171       Bobby Portis      Bobby  1.610613e+09   \n",
      "3         1626245  Cristiano Felicio  Cristiano  1.610613e+09   \n",
      "4         1627756   Denzel Valentine     Denzel  1.610613e+09   \n",
      "...           ...                ...        ...           ...   \n",
      "327345     201564          O.J. Mayo       O.J.  1.610613e+09   \n",
      "327346     200782        P.J. Tucker       P.J.  1.610613e+09   \n",
      "327347       2585      Zaza Pachulia       Zaza  1.610613e+09   \n",
      "327348     201609       Goran Dragic      Goran  1.610613e+09   \n",
      "327349     202738      Isaiah Thomas     Isaiah  1.610613e+09   \n",
      "\n",
      "       TEAM_ABBREVIATION   AGE  GP  W  L  W_PCT  ...  DIST_MILES_DEF  \\\n",
      "0                    BOS  31.0   1  0  1    0.0  ...             NaN   \n",
      "1                    BOS  30.0   1  0  1    0.0  ...             NaN   \n",
      "2                    CHI  22.0   1  1  0    1.0  ...             NaN   \n",
      "3                    CHI  24.0   1  1  0    1.0  ...             NaN   \n",
      "4                    CHI  23.0   1  1  0    1.0  ...             NaN   \n",
      "...                  ...   ...  .. .. ..    ...  ...             ...   \n",
      "327345               MIL  27.0   1  0  1    0.0  ...             NaN   \n",
      "327346               PHX  30.0   1  1  0    1.0  ...             NaN   \n",
      "327347               MIL  31.0   1  0  1    0.0  ...             NaN   \n",
      "327348               PHX  29.0   1  1  0    1.0  ...             NaN   \n",
      "327349               PHX  26.0   1  1  0    1.0  ...             NaN   \n",
      "\n",
      "        DIST_MILES_OFF  AVG_SPEED  MIN1  AVG_SPEED_OFF  PLAYER_LAST_TEAM_ID  \\\n",
      "0                  NaN        NaN   NaN            NaN                  NaN   \n",
      "1                  NaN        NaN   NaN            NaN                  NaN   \n",
      "2                  NaN        NaN   NaN            NaN                  NaN   \n",
      "3                  NaN        NaN   NaN            NaN                  NaN   \n",
      "4                  NaN        NaN   NaN            NaN                  NaN   \n",
      "...                ...        ...   ...            ...                  ...   \n",
      "327345             NaN        NaN   NaN            NaN                  NaN   \n",
      "327346             NaN        NaN   NaN            NaN                  NaN   \n",
      "327347             NaN        NaN   NaN            NaN                  NaN   \n",
      "327348             NaN        NaN   NaN            NaN                  NaN   \n",
      "327349             NaN        NaN   NaN            NaN                  NaN   \n",
      "\n",
      "        more_15ft_def_TEAM_ID  hustle_TEAM_ID  post_touch_TEAM_ID  Unnamed: 0  \n",
      "0                         NaN             NaN                 NaN         NaN  \n",
      "1                         NaN             NaN                 NaN         NaN  \n",
      "2                         NaN             NaN                 NaN         NaN  \n",
      "3                         NaN             NaN                 NaN         NaN  \n",
      "4                         NaN             NaN                 NaN         NaN  \n",
      "...                       ...             ...                 ...         ...  \n",
      "327345                    NaN             NaN                 NaN         NaN  \n",
      "327346                    NaN             NaN                 NaN         NaN  \n",
      "327347                    NaN             NaN                 NaN         NaN  \n",
      "327348                    NaN             NaN                 NaN         NaN  \n",
      "327349                    NaN             NaN                 NaN         NaN  \n",
      "\n",
      "[327350 rows x 465 columns]\n"
     ]
    }
   ],
   "source": [
    "import os\n",
    "import pandas as pd\n",
    "\n",
    "# Define the directory containing the CSV files\n",
    "csv_dir = '.'  # or provide a full path like '/Users/yourname/data/'\n",
    "\n",
    "# Get all CSV file names in the directory\n",
    "csv_files = [f for f in os.listdir(csv_dir) if f.endswith('.csv')]\n",
    "\n",
    "# Initialize a list to hold DataFrames\n",
    "dfs = []\n",
    "\n",
    "# Loop through and read each file\n",
    "for filename in csv_files:\n",
    "    file_path = os.path.join(csv_dir, filename)\n",
    "    try:\n",
    "        df = pd.read_csv(file_path)\n",
    "        dfs.append(df)\n",
    "    except Exception as e:\n",
    "        print(f\"Could not read {filename}: {e}\")\n",
    "\n",
    "# Concatenate all DataFrames into one\n",
    "\n",
    "combined_df = pd.concat(dfs, ignore_index=True)\n",
    "print(combined_df)"
   ]
  },
  {
   "cell_type": "code",
   "execution_count": 3,
   "id": "813ae46e-7581-4073-8a33-a55e5fb37581",
   "metadata": {},
   "outputs": [
    {
     "name": "stdout",
     "output_type": "stream",
     "text": [
      "opp_team\n",
      "opp_id\n"
     ]
    }
   ],
   "source": [
    "for col in combined_df.columns:\n",
    "    if 'opp' in col.lower():\n",
    "        print(col)"
   ]
  },
  {
   "cell_type": "code",
   "execution_count": null,
   "id": "d79b72c0-a4fa-46bb-9efd-7a654de42970",
   "metadata": {},
   "outputs": [],
   "source": [
    "index_col=['PLAYER_ID', 'PLAYER_NAME','TEAM_ABBREVIATION','TEAM_ID','opp_id','opp_team']\n",
    "\n",
    "game_record=combined_df[index_col]\n",
    "ga"
   ]
  }
 ],
 "metadata": {
  "kernelspec": {
   "display_name": "Python 3 (ipykernel)",
   "language": "python",
   "name": "python3"
  },
  "language_info": {
   "codemirror_mode": {
    "name": "ipython",
    "version": 3
   },
   "file_extension": ".py",
   "mimetype": "text/x-python",
   "name": "python",
   "nbconvert_exporter": "python",
   "pygments_lexer": "ipython3",
   "version": "3.12.3"
  }
 },
 "nbformat": 4,
 "nbformat_minor": 5
}
