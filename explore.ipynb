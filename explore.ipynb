{
 "cells": [
  {
   "cell_type": "code",
   "execution_count": null,
   "id": "fca9d682",
   "metadata": {},
   "outputs": [
    {
     "name": "stdout",
     "output_type": "stream",
     "text": [
      "https://raw.githubusercontent.com/gabriel1200/player_sheets/refs/heads/master/teamgame_report/year_files/all_games_2025ps.csv\n",
      "4176\n",
      "Games with better TO factor: 1992\n",
      "Win rate when team had better TO factor: 69.48%\n",
      "Adjusted win count: 1384 out of estimated 2088 unique games\n"
     ]
    }
   ],
   "source": [
    "import pandas as pd\n",
    "\n",
    "def analyze_turnover_win_rate(year=2025, playoffs=False):\n",
    "    # Construct the correct URL based on the playoffs flag\n",
    "    suffix = 'ps' if playoffs else ''\n",
    "    url = f'https://raw.githubusercontent.com/gabriel1200/player_sheets/refs/heads/master/teamgame_report/year_files/all_games_{year}{suffix}.csv'\n",
    "    \n",
    "    # Load data\n",
    "    print(url)\n",
    "    df = pd.read_csv(url)\n",
    "    df.drop_duplicates(subset='GameId',inplace=True)\n",
    "    print(len(df))\n",
    "\n",
    "    # Filter only games where team had better (lower) turnover factor than opponent\n",
    "    better_tov = df[df['turnover_factor'] > df['opp_turnover_factor']]\n",
    "\n",
    "    # Win rate when having better turnover factor\n",
    "    win_rate = better_tov['W'].mean() * 100\n",
    "\n",
    "    # Total unique games = half the number of rows\n",
    "    total_unique_games = df.shape[0] // 2\n",
    "\n",
    "    # Output\n",
    "    print(f\"Games with better TO factor: {len(better_tov)}\")\n",
    "    print(f\"Win rate when team had better TO factor: {win_rate:.2f}%\")\n",
    "    print(f\"Adjusted win count: {better_tov['W'].sum()} out of estimated {total_unique_games} unique games\")\n",
    "\n",
    "analyze_turnover_win_rate(2025,playoffs=True)\n"
   ]
  }
 ],
 "metadata": {
  "kernelspec": {
   "display_name": "Python 3",
   "language": "python",
   "name": "python3"
  },
  "language_info": {
   "codemirror_mode": {
    "name": "ipython",
    "version": 3
   },
   "file_extension": ".py",
   "mimetype": "text/x-python",
   "name": "python",
   "nbconvert_exporter": "python",
   "pygments_lexer": "ipython3",
   "version": "3.10.12"
  }
 },
 "nbformat": 4,
 "nbformat_minor": 5
}
