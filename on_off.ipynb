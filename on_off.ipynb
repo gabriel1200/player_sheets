{
 "cells": [
  {
   "cell_type": "code",
   "execution_count": 3,
   "id": "214c1df6-a286-4d22-86f8-753c8c563b94",
   "metadata": {},
   "outputs": [],
   "source": [
    "import pandas as pd\n",
    "import requests\n",
    "import os\n",
    "\n",
    "\n",
    "def on_sort(csv_files,ps=False):\n",
    "    path = '../contract/nba_rapm/on-off/players'\n",
    "    trail=''\n",
    "\n",
    "    if ps == True:\n",
    "        \n",
    "      \n",
    "        path = '../contract/nba_rapm/on-off/players_ps'\n",
    "        trail='ps'\n",
    "\n",
    "    csv_files = [f for f in os.listdir(path) if f.endswith('.csv')]\n",
    "\n",
    "    csv_files = [f for f in csv_files if 'vs' not in f]\n",
    "    frames=[]\n",
    "    \n",
    "    for f in csv_files:\n",
    "        df=pd.read_csv(path+'/'+f)\n",
    "        df=df[['year','ortg','drtg','AtRimFGM','AtRimFGA','AtRimAssists','Turnovers','FTA','OffPoss','DefPoss','TwoPtAssists','Steals','BadPassSteals','ThreePtAssists','FG3A','OpponentPoints','Points','SecondChancePoints','FG2A','LiveBallTurnovers','TsPct','Fg3Pct','AtRimFG3AFrequency','Pace','AtRimFrequency','SecondsPerPossOff','SecondsPerPossDef','Minutes', 'DefAtRimReboundPct','DefFGReboundPct','AtRimAccuracy','player_on','OffFGReboundPct']]\n",
    "        nba_id=f.split('.')[0]\n",
    "        df['nba_id']=int(nba_id)\n",
    "        frames.append(df)\n",
    "    totals=pd.concat(frames)\n",
    "    for nba_id in totals['nba_id']:\n",
    "        player_frame=totals[totals.nba_id==nba_id].reset_index()\n",
    "        player_frame.to_csv('on_off/'+str(nba_id)+trail+'.csv',index=False)\n",
    "\n",
    "def on_opp_sort(csv_files,ps=False):\n",
    "    path = '../contract/nba_rapm/on-off/players'\n",
    "    trail=''\n",
    "\n",
    "    if ps == True:\n",
    "        \n",
    "      \n",
    "        path = '../contract/nba_rapm/on-off/players_ps'\n",
    "        trail='ps'\n",
    "    csv_files = [f for f in os.listdir(path) if f.endswith('.csv')]\n",
    "\n",
    "    csv_files = [f for f in csv_files if 'vs' in f]\n",
    "    frames=[]\n",
    "    \n",
    "    for f in csv_files:\n",
    "        df=pd.read_csv(path+'/'+f)\n",
    "        df=df[['year','ortg','drtg','AtRimFGM','AtRimFGA','AtRimAssists','Turnovers','FTA','OffPoss','DefPoss','TwoPtAssists','Steals','BadPassSteals','ThreePtAssists','FG3A','OpponentPoints','Points','SecondChancePoints','FG2A','LiveBallTurnovers','TsPct','Fg3Pct','AtRimFG3AFrequency','Pace','AtRimFrequency','SecondsPerPossOff','SecondsPerPossDef','Minutes', 'DefAtRimReboundPct','DefFGReboundPct','AtRimAccuracy','player_on','OffFGReboundPct']]\n",
    "        nba_id=f.split('vs')[0]\n",
    "        df['nba_id']=int(nba_id)\n",
    "        frames.append(df)\n",
    "    totals=pd.concat(frames)\n",
    "    for nba_id in totals['nba_id']:\n",
    "        player_frame=totals[totals.nba_id==nba_id].reset_index()\n",
    "        player_frame.to_csv('on_off/'+str(nba_id)+'vs'+trail+'.csv',index=False)\n",
    "on_sort(csv_files)\n",
    "on_opp_sort(csv_files)\n",
    "on_sort(csv_files,ps=True)\n",
    "on_opp_sort(csv_files,ps=True)"
   ]
  },
  {
   "cell_type": "code",
   "execution_count": null,
   "id": "ed9d6cbd-2b9d-4165-a001-7e2b233a064a",
   "metadata": {},
   "outputs": [],
   "source": []
  },
  {
   "cell_type": "code",
   "execution_count": null,
   "id": "9f463c16-1ba0-4cf8-85bd-b4e9f1211920",
   "metadata": {},
   "outputs": [],
   "source": []
  }
 ],
 "metadata": {
  "kernelspec": {
   "display_name": "Python 3 (ipykernel)",
   "language": "python",
   "name": "python3"
  },
  "language_info": {
   "codemirror_mode": {
    "name": "ipython",
    "version": 3
   },
   "file_extension": ".py",
   "mimetype": "text/x-python",
   "name": "python",
   "nbconvert_exporter": "python",
   "pygments_lexer": "ipython3",
   "version": "3.12.3"
  }
 },
 "nbformat": 4,
 "nbformat_minor": 5
}
